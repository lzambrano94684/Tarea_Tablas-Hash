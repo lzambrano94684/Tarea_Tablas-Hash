{
 "cells": [
  {
   "cell_type": "code",
   "execution_count": 2,
   "id": "45c5ad8c-48d9-4484-aaad-757118aa58fb",
   "metadata": {},
   "outputs": [
    {
     "name": "stdout",
     "output_type": "stream",
     "text": [
      "Clave\tToken\n",
      "100\tint\n",
      "103\tsuma\n",
      "108\t=\n",
      "110\t0\n",
      "112\t;\n",
      "200\tsuma\n",
      "204\t=\n",
      "206\t54\n",
      "209\t+\n",
      "211\t20\n",
      "214\t;\n"
     ]
    }
   ],
   "source": [
    "import re\n",
    "\n",
    "# Función para dividir el código en tokens y asignar la posición (fila, columna) a cada token\n",
    "def tokenize_code(code):\n",
    "    lines = code.split('\\n')\n",
    "    tokens = []\n",
    "    for row, line in enumerate(lines):\n",
    "        col = 0\n",
    "        while col < len(line):\n",
    "            # Encontrar el siguiente token usando una expresión regular\n",
    "            match = re.match(r'\\s*(\\w+|=|\\+|;|\\d+)', line[col:])\n",
    "            if match:\n",
    "                token = match.group(1)\n",
    "                tokens.append(((row, col), token))\n",
    "                col += match.end()\n",
    "            else:\n",
    "                col += 1\n",
    "    return tokens\n",
    "\n",
    "# Código en C++ como una cadena multilínea\n",
    "code = \"\"\"\n",
    "int suma = 0;\n",
    "suma = 54 + 20;\n",
    "\"\"\"\n",
    "\n",
    "# Tokenizar el código y obtener las posiciones\n",
    "tokens = tokenize_code(code)\n",
    "\n",
    "# Mostrar el resultado en consola\n",
    "print(\"Clave\\tToken\")\n",
    "for pos, token in tokens:\n",
    "    print(f\"{pos[0]}{pos[1]:02}\\t{token}\")\n"
   ]
  },
  {
   "cell_type": "code",
   "execution_count": 3,
   "id": "1759fcd5-6a28-4e95-b094-557223985b94",
   "metadata": {},
   "outputs": [
    {
     "name": "stdout",
     "output_type": "stream",
     "text": [
      "Ingrese su código en C++ (finalice con una línea vacía):\n"
     ]
    },
    {
     "name": "stdin",
     "output_type": "stream",
     "text": [
      " int suma = 0; suma = 54 + 20;\n",
      " \n"
     ]
    },
    {
     "name": "stdout",
     "output_type": "stream",
     "text": [
      "Clave\tToken\n",
      "000\tint\n",
      "003\tsuma\n",
      "008\t=\n",
      "010\t0\n",
      "012\t;\n",
      "013\tsuma\n",
      "018\t=\n",
      "020\t54\n",
      "023\t+\n",
      "025\t20\n",
      "028\t;\n"
     ]
    }
   ],
   "source": []
  },
  {
   "cell_type": "code",
   "execution_count": null,
   "id": "f5b8e8b3-c739-4851-b531-ffe2a69ad3ba",
   "metadata": {},
   "outputs": [],
   "source": []
  }
 ],
 "metadata": {
  "kernelspec": {
   "display_name": "Python 3 (ipykernel)",
   "language": "python",
   "name": "python3"
  },
  "language_info": {
   "codemirror_mode": {
    "name": "ipython",
    "version": 3
   },
   "file_extension": ".py",
   "mimetype": "text/x-python",
   "name": "python",
   "nbconvert_exporter": "python",
   "pygments_lexer": "ipython3",
   "version": "3.11.5"
  }
 },
 "nbformat": 4,
 "nbformat_minor": 5
}
